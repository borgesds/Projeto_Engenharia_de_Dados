{
 "cells": [
  {
   "cell_type": "code",
   "execution_count": null,
   "metadata": {},
   "outputs": [],
   "source": [
    "import pandas as pd\n",
    "import numpy as np"
   ]
  },
  {
   "cell_type": "code",
   "execution_count": null,
   "metadata": {},
   "outputs": [],
   "source": [
    "column_names = ['id', 'series', 'date', 'query', 'user_id', 'twitters']\n",
    "\n",
    "df_twitters = pd.read_csv('/home/borges/Documentos/Bases_dados/twitter/training.1600000.processed.noemoticon.csv',\n",
    "                          encoding='latin1', names=column_names)"
   ]
  },
  {
   "cell_type": "code",
   "execution_count": null,
   "metadata": {},
   "outputs": [],
   "source": [
    "print(df_twitters.shape)\n",
    "df_twitters.head(10)"
   ]
  },
  {
   "attachments": {},
   "cell_type": "markdown",
   "metadata": {},
   "source": [
    "# Subir os dados para o banco de dados"
   ]
  },
  {
   "cell_type": "code",
   "execution_count": null,
   "metadata": {},
   "outputs": [],
   "source": [
    "!pip install mysql-connector-python"
   ]
  },
  {
   "cell_type": "code",
   "execution_count": null,
   "metadata": {},
   "outputs": [],
   "source": [
    "\n",
    "import mysql.connector\n",
    "\n",
    "def criar_conexao(host, usuario, password, banco):\n",
    "    return mysql.connector.connect(\n",
    "        host=host,\n",
    "        user=usuario,\n",
    "        password=password,\n",
    "        database=banco\n",
    "    )\n",
    "\n",
    "\n",
    "def fechar_conexao(con):\n",
    "    return con.close()\n",
    "\n",
    "\n"
   ]
  },
  {
   "cell_type": "code",
   "execution_count": null,
   "metadata": {},
   "outputs": [],
   "source": [
    "# criar tabela se não existir\n",
    "\n",
    "mydb = criar_conexao(\"localhost\", \"root\", \"essaeasenha\", \"twitter\")\n",
    "\n",
    "mycursor = mydb.cursor()\n",
    "\n",
    "mycursor.execute(\"\"\"CREATE TABLE IF NOT EXISTS tweets (\n",
    "                    id INT AUTO_INCREMENT PRIMARY KEY,\n",
    "                    id_tweets BIGINT,\n",
    "                    series VARCHAR(255),\n",
    "                    date VARCHAR(100),\n",
    "                    query VARCHAR(100),\n",
    "                    user_id VARCHAR(255),\n",
    "                    twitters VARCHAR(255)\n",
    "                    );\n",
    "                \"\"\")"
   ]
  },
  {
   "cell_type": "code",
   "execution_count": null,
   "metadata": {},
   "outputs": [],
   "source": [
    "# criando conexção como o banco de dados\n",
    "conn = criar_conexao(\"localhost\", \"root\", \"essaeasenha\", \"twitter\")\n",
    "cursor = conn.cursor()\n",
    "\n",
    "# dividit o dataframe em partes\n",
    "df_splits = np.array_split(df_twitters.sort_values(by=['series']), 100)\n",
    "\n",
    "count_batches = 1\n",
    "\n",
    "for df_part in df_splits:\n",
    "      for index, row in df_part.iterrows():\n",
    "            id_tweets = row[0]\n",
    "            series = row[1]\n",
    "            date = row[2]\n",
    "            query = row[3]\n",
    "            user_id = row[4]\n",
    "            twitters = row[5]\n",
    "            \n",
    "            sql = \"\"\"INSERT INTO tweets (\n",
    "             id_tweets, series, date,\n",
    "             query, user_id, twitters) VALUES (\n",
    "             %s, %s, %s, %s, %s, %s)\n",
    "            \"\"\"\n",
    "            valores = (id_tweets, series, date,\n",
    "                        query, user_id, twitters)\n",
    "            \n",
    "            cursor.execute(sql, valores)\n",
    "            \n",
    "            \n",
    "      conn.commit()\n",
    "      cursor.close()\n",
    "      cursor = conn.cursor()\n",
    "      count_batches += 1\n",
    "      \n",
    "      print(f'=====> LOTE {count_batches} SUBIU <===== \\n')\n",
    "\n",
    "# faz mais um commit para atualizar as linhas restantes\n",
    "conn.commit()\n",
    "\n",
    "# imprime a quantidade de lotes atualizados\n",
    "print(f'{count_batches} lotes atualizados.')\n",
    "\n",
    "fechar_conexao()\n"
   ]
  }
 ],
 "metadata": {
  "kernelspec": {
   "display_name": ".venv",
   "language": "python",
   "name": "python3"
  },
  "language_info": {
   "codemirror_mode": {
    "name": "ipython",
    "version": 3
   },
   "file_extension": ".py",
   "mimetype": "text/x-python",
   "name": "python",
   "nbconvert_exporter": "python",
   "pygments_lexer": "ipython3",
   "version": "3.11.0rc1"
  },
  "orig_nbformat": 4
 },
 "nbformat": 4,
 "nbformat_minor": 2
}
